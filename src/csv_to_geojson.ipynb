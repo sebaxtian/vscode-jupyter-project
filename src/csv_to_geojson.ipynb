{
 "nbformat": 4,
 "nbformat_minor": 2,
 "metadata": {
  "language_info": {
   "name": "python",
   "codemirror_mode": {
    "name": "ipython",
    "version": 3
   },
   "version": "3.6.9-final"
  },
  "orig_nbformat": 2,
  "file_extension": ".py",
  "mimetype": "text/x-python",
  "name": "python",
  "npconvert_exporter": "python",
  "pygments_lexer": "ipython3",
  "version": 3,
  "kernelspec": {
   "name": "python36964bitvenvvenvcb4dc853c61849baab6e90f0deb4d263",
   "display_name": "Python 3.6.9 64-bit ('.venv': venv)"
  }
 },
 "cells": [
  {
   "cell_type": "markdown",
   "metadata": {},
   "source": [
    "# CSV to GeoJSON\n",
    "This is an example to show how we can use pandas and geopandas to transform CSV file to GeoJSON file"
   ]
  },
  {
   "cell_type": "code",
   "execution_count": 2,
   "metadata": {},
   "outputs": [],
   "source": [
    "# Import modules\n",
    "import pandas as pd\n",
    "import geopandas as gpd\n",
    "import os"
   ]
  },
  {
   "cell_type": "code",
   "execution_count": 3,
   "metadata": {},
   "outputs": [],
   "source": [
    "# Constants\n",
    "INPUT_DIR = \"../input\"\n",
    "OUTPUT_DIR = \"../output\""
   ]
  },
  {
   "cell_type": "code",
   "execution_count": 7,
   "metadata": {},
   "outputs": [
    {
     "data": {
      "text/plain": "(1655, 20)"
     },
     "execution_count": 7,
     "metadata": {},
     "output_type": "execute_result"
    }
   ],
   "source": [
    "# Load dataset\n",
    "dataset = pd.read_csv(os.path.join(INPUT_DIR, 'crash_data.csv'))\n",
    "dataset.shape"
   ]
  },
  {
   "cell_type": "code",
   "execution_count": 8,
   "metadata": {},
   "outputs": [
    {
     "data": {
      "text/html": "<div>\n<style scoped>\n    .dataframe tbody tr th:only-of-type {\n        vertical-align: middle;\n    }\n\n    .dataframe tbody tr th {\n        vertical-align: top;\n    }\n\n    .dataframe thead th {\n        text-align: right;\n    }\n</style>\n<table border=\"1\" class=\"dataframe\">\n  <thead>\n    <tr style=\"text-align: right;\">\n      <th></th>\n      <th>caseID</th>\n      <th>state</th>\n      <th>county</th>\n      <th>city</th>\n      <th>date</th>\n      <th>hour</th>\n      <th>minute</th>\n      <th>lightCondition</th>\n      <th>weatherDescription</th>\n      <th>weatherDescriptionTwo</th>\n      <th>weatherDescriptionThree</th>\n      <th>deaths</th>\n      <th>Factors</th>\n      <th>FactorsTwo</th>\n      <th>FactorsThree</th>\n      <th>lat</th>\n      <th>lng</th>\n      <th>year</th>\n      <th>carsTypes</th>\n      <th>carNum</th>\n    </tr>\n  </thead>\n  <tbody>\n    <tr>\n      <th>0</th>\n      <td>480004</td>\n      <td>TEXAS</td>\n      <td>DALLAS</td>\n      <td>DALLAS</td>\n      <td>2018-1-1</td>\n      <td>5</td>\n      <td>19</td>\n      <td>Dark - Lighted</td>\n      <td>Clear</td>\n      <td>Clear</td>\n      <td>No Additional Atmospheric Conditions</td>\n      <td>1</td>\n      <td>None</td>\n      <td>None</td>\n      <td>None</td>\n      <td>32.816169</td>\n      <td>-96.9000</td>\n      <td>2018</td>\n      <td>2-Door Sedan</td>\n      <td>1</td>\n    </tr>\n    <tr>\n      <th>1</th>\n      <td>480005</td>\n      <td>TEXAS</td>\n      <td>DALLAS</td>\n      <td>DALLAS</td>\n      <td>2018-1-1</td>\n      <td>5</td>\n      <td>26</td>\n      <td>Dark - Lighted</td>\n      <td>Clear</td>\n      <td>Clear</td>\n      <td>No Additional Atmospheric Conditions</td>\n      <td>1</td>\n      <td>Indication of a Stalled Vehicle</td>\n      <td>Recent Previous Crash Scene Nearby</td>\n      <td>None</td>\n      <td>32.923953</td>\n      <td>-96.7739</td>\n      <td>2018</td>\n      <td>4-Door Sedan/4-Door Sedan/4-Door Sedan</td>\n      <td>3</td>\n    </tr>\n    <tr>\n      <th>2</th>\n      <td>480006</td>\n      <td>TEXAS</td>\n      <td>DALLAS</td>\n      <td>DALLAS</td>\n      <td>2018-1-1</td>\n      <td>0</td>\n      <td>30</td>\n      <td>Dark - Unknown Lighting</td>\n      <td>Clear</td>\n      <td>Clear</td>\n      <td>No Additional Atmospheric Conditions</td>\n      <td>2</td>\n      <td>None</td>\n      <td>None</td>\n      <td>None</td>\n      <td>32.647183</td>\n      <td>-96.8232</td>\n      <td>2018</td>\n      <td>4-Door Sedan/Large Utility</td>\n      <td>2</td>\n    </tr>\n    <tr>\n      <th>3</th>\n      <td>480017</td>\n      <td>TEXAS</td>\n      <td>DALLAS</td>\n      <td>DALLAS</td>\n      <td>2018-1-3</td>\n      <td>21</td>\n      <td>21</td>\n      <td>Dark - Lighted</td>\n      <td>Clear</td>\n      <td>Clear</td>\n      <td>No Additional Atmospheric Conditions</td>\n      <td>1</td>\n      <td>None</td>\n      <td>None</td>\n      <td>None</td>\n      <td>32.753458</td>\n      <td>-96.7644</td>\n      <td>2018</td>\n      <td>4-Door Sedan/4-Door Sedan</td>\n      <td>2</td>\n    </tr>\n    <tr>\n      <th>4</th>\n      <td>480052</td>\n      <td>TEXAS</td>\n      <td>TARRANT</td>\n      <td>FORT WORTH</td>\n      <td>2018-1-6</td>\n      <td>18</td>\n      <td>8</td>\n      <td>Dark - Lighted</td>\n      <td>Clear</td>\n      <td>Clear</td>\n      <td>No Additional Atmospheric Conditions</td>\n      <td>1</td>\n      <td>None</td>\n      <td>None</td>\n      <td>None</td>\n      <td>32.759122</td>\n      <td>-97.3598</td>\n      <td>2018</td>\n      <td>Motorcycle/Light Pickup</td>\n      <td>2</td>\n    </tr>\n  </tbody>\n</table>\n</div>",
      "text/plain": "   caseID  state   county        city      date  hour  minute  \\\n0  480004  TEXAS   DALLAS      DALLAS  2018-1-1     5      19   \n1  480005  TEXAS   DALLAS      DALLAS  2018-1-1     5      26   \n2  480006  TEXAS   DALLAS      DALLAS  2018-1-1     0      30   \n3  480017  TEXAS   DALLAS      DALLAS  2018-1-3    21      21   \n4  480052  TEXAS  TARRANT  FORT WORTH  2018-1-6    18       8   \n\n            lightCondition weatherDescription weatherDescriptionTwo  \\\n0           Dark - Lighted              Clear                 Clear   \n1           Dark - Lighted              Clear                 Clear   \n2  Dark - Unknown Lighting              Clear                 Clear   \n3           Dark - Lighted              Clear                 Clear   \n4           Dark - Lighted              Clear                 Clear   \n\n                weatherDescriptionThree  deaths  \\\n0  No Additional Atmospheric Conditions       1   \n1  No Additional Atmospheric Conditions       1   \n2  No Additional Atmospheric Conditions       2   \n3  No Additional Atmospheric Conditions       1   \n4  No Additional Atmospheric Conditions       1   \n\n                           Factors                          FactorsTwo  \\\n0                             None                                None   \n1  Indication of a Stalled Vehicle  Recent Previous Crash Scene Nearby   \n2                             None                                None   \n3                             None                                None   \n4                             None                                None   \n\n  FactorsThree        lat      lng  year  \\\n0         None  32.816169 -96.9000  2018   \n1         None  32.923953 -96.7739  2018   \n2         None  32.647183 -96.8232  2018   \n3         None  32.753458 -96.7644  2018   \n4         None  32.759122 -97.3598  2018   \n\n                                carsTypes  carNum  \n0                            2-Door Sedan       1  \n1  4-Door Sedan/4-Door Sedan/4-Door Sedan       3  \n2              4-Door Sedan/Large Utility       2  \n3               4-Door Sedan/4-Door Sedan       2  \n4                 Motorcycle/Light Pickup       2  "
     },
     "execution_count": 8,
     "metadata": {},
     "output_type": "execute_result"
    }
   ],
   "source": [
    "# Show dataset\n",
    "dataset.head()"
   ]
  },
  {
   "cell_type": "code",
   "execution_count": null,
   "metadata": {},
   "outputs": [],
   "source": []
  }
 ]
}